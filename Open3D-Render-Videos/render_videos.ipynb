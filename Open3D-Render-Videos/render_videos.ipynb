{
 "cells": [
  {
   "cell_type": "code",
   "execution_count": 1,
   "metadata": {},
   "outputs": [],
   "source": [
    "import numpy as np\n",
    "import open3d as o3d  # open3d 用于设置动画轨迹，以及保存每一帧图片\n",
    "import cv2  # opencv 用于拼凑图片编辑，以及制作视频\n",
    "import h5py\n",
    "import os\n",
    "import torch\n",
    "from copy import deepcopy\n",
    "import shutil\n",
    "from PIL import Image, ImageDraw, ImageFont\n",
    "from glob import glob"
   ]
  },
  {
   "cell_type": "code",
   "execution_count": 2,
   "metadata": {},
   "outputs": [],
   "source": [
    "def create_sphere_at_xyz(xyz, colors=None, radius=0.006):\n",
    "    sphere = o3d.geometry.TriangleMesh.create_sphere(radius=radius, resolution=4)\n",
    "    #sphere.compute_vertex_normals()\n",
    "    if colors is None:\n",
    "        sphere.paint_uniform_color([0xee/0xff, 0x5c/0xff, 0x40/0xff])\n",
    "    else:\n",
    "        sphere.paint_uniform_color(colors)\n",
    "    sphere = sphere.translate(xyz)\n",
    "    return sphere\n",
    "\n",
    "def create_point_mesh(point_cloud, colors=None, radius=0.006):\n",
    "    mesh = []\n",
    "    for i in range(point_cloud.shape[0]):\n",
    "        mesh.append(create_sphere_at_xyz(point_cloud[i], colors=colors, radius=radius))\n",
    "    \n",
    "    obj = mesh[0]\n",
    "    for i in range(1,len(mesh)):\n",
    "        obj += mesh[i]\n",
    "    return obj"
   ]
  },
  {
   "cell_type": "code",
   "execution_count": 3,
   "metadata": {},
   "outputs": [],
   "source": [
    "target_point_name = 'm355'\n",
    "points = np.loadtxt(os.path.join('points', '%s.xyz' % target_point_name))\n",
    "obj = create_point_mesh(points)"
   ]
  },
  {
   "cell_type": "code",
   "execution_count": null,
   "metadata": {},
   "outputs": [],
   "source": [
    "obj = o3d.io.read_triangle_mesh(os.path.join('points', '%s.obj' % target_point_name))"
   ]
  },
  {
   "cell_type": "markdown",
   "metadata": {},
   "source": [
    "# 第一步 设置动画，保存路径\n",
    "- Ctrl + A 添加关键帧\n",
    "- Ctrl + S 保存运动轨迹文件"
   ]
  },
  {
   "cell_type": "code",
   "execution_count": 15,
   "metadata": {},
   "outputs": [],
   "source": [
    "o3d.visualization.draw_geometries_with_custom_animation([obj], width=800, height=800)"
   ]
  },
  {
   "cell_type": "markdown",
   "metadata": {},
   "source": [
    "设置并保存了路径，生成了.json文件\n",
    "接下来，Ctrl+R运行动画，并且会截取每一帧图像"
   ]
  },
  {
   "cell_type": "code",
   "execution_count": 5,
   "metadata": {},
   "outputs": [],
   "source": [
    "o3d.visualization.draw_geometries_with_custom_animation([obj], width=800, height=800, optional_view_trajectory_json_file='ViewTrajectory_2021-11-24-10-18-14.json')"
   ]
  },
  {
   "cell_type": "markdown",
   "metadata": {},
   "source": [
    "# 第二步 绘制图像\n",
    "为每张图像增加一些文字"
   ]
  },
  {
   "cell_type": "code",
   "execution_count": 68,
   "metadata": {},
   "outputs": [],
   "source": [
    "image_paths = glob(os.path.join(target_point_name, '*.png'))\n",
    "text_str = '<your_text_content>'\n",
    "for image_path in image_paths:\n",
    "    image = cv2.imread(image_path)\n",
    "    img_PIL = Image.fromarray(cv2.cvtColor(image, cv2.COLOR_BGR2RGB))\n",
    "    font = ImageFont.truetype('./Roman.ttf', 40) # Consolas.ttf\n",
    "    fillColor = (0, 0, 0)\n",
    "    position = (360, 760)\n",
    "    draw = ImageDraw.Draw(img_PIL)\n",
    "    draw.text(position, text_str, font=font, fill=fillColor)\n",
    "    img_OpenCV = cv2.cvtColor(np.asarray(img_PIL),cv2.COLOR_RGB2BGR)\n",
    "    cv2.imwrite(image_path, img_OpenCV)"
   ]
  },
  {
   "cell_type": "markdown",
   "metadata": {},
   "source": [
    "# 第三步 生成视频\n",
    "将生成的图像帧绘制成视频"
   ]
  },
  {
   "cell_type": "code",
   "execution_count": 69,
   "metadata": {},
   "outputs": [],
   "source": [
    "writer = cv2.VideoWriter('./demo.avi', cv2.VideoWriter_fourcc(*'DIVX'), 20.0, (3200, 3200))  # video writer"
   ]
  },
  {
   "cell_type": "code",
   "execution_count": 70,
   "metadata": {},
   "outputs": [],
   "source": [
    "# cnt = len(glob(os.path.join('image', '*.png')))\n",
    "cnt = 121\n",
    "\n",
    "for i in range(1, cnt+1):\n",
    "    image_basename = 'image_%06d.png' % i\n",
    "    \n",
    "    m355_input = cv2.imread(os.path.join('m355_input', image_basename))\n",
    "    m355_pugan = cv2.imread(os.path.join('m355_pugan', image_basename))\n",
    "    m355_dispu = cv2.imread(os.path.join('m355_dispu', image_basename))\n",
    "    m355_ours = cv2.imread(os.path.join('m355_ours', image_basename))\n",
    "    m355 = np.concatenate((m355_input, m355_pugan, m355_dispu, m355_ours), axis=1)  # 将多张图像拼在一起\n",
    "    \n",
    "    image = m355\n",
    "    writer.write(image)\n",
    "writer.release()"
   ]
  }
 ],
 "metadata": {
  "kernelspec": {
   "display_name": "Python 3",
   "language": "python",
   "name": "python3"
  },
  "language_info": {
   "codemirror_mode": {
    "name": "ipython",
    "version": 3
   },
   "file_extension": ".py",
   "mimetype": "text/x-python",
   "name": "python",
   "nbconvert_exporter": "python",
   "pygments_lexer": "ipython3",
   "version": "3.7.3"
  }
 },
 "nbformat": 4,
 "nbformat_minor": 4
}
